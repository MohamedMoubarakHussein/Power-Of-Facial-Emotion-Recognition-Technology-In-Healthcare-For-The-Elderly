{
 "cells": [
  {
   "cell_type": "code",
   "execution_count": 1,
   "id": "91c01e2c",
   "metadata": {},
   "outputs": [],
   "source": [
    "import cv2\n",
    "import numpy as np\n",
    "import os\n",
    "import json\n",
    "from flask import Flask,request,render_template,session,Response\n",
    "from flask_cors import CORS\n",
    "\n",
    "#Our lib\n",
    "import Utilities as ut\n",
    "import Database_user as db_user\n",
    "import Database_emotion as ss\n",
    "import Analysis as magic\n",
    "import Alerts \n",
    "import Outer_api as api"
   ]
  },
  {
   "cell_type": "code",
   "execution_count": 2,
   "id": "65ed8414",
   "metadata": {},
   "outputs": [],
   "source": [
    "app = Flask(__name__)\n",
    "app.secret_key = 'your_secret_key'"
   ]
  },
  {
   "cell_type": "code",
   "execution_count": 3,
   "id": "892e5188",
   "metadata": {},
   "outputs": [],
   "source": [
    "#flutter\n",
    "@app.route('/uploadx', methods=['POST'])\n",
    "def uploadx():\n",
    "    framesArray = []\n",
    "    user = request.files['username']\n",
    "    for i in range(126):\n",
    "        file = request.files[f'frame{i}']\n",
    "        frame_bytes = file.read()\n",
    "        np_frame = np.frombuffer(frame_bytes, np.uint8)\n",
    "        frame = cv2.imdecode(np_frame, cv2.IMREAD_COLOR)\n",
    "        framesArray.append(frame)\n",
    "    ut.sendToModel(framesArray , user)\n",
    "    return Response(response='Frames received', status=200)"
   ]
  },
  {
   "cell_type": "code",
   "execution_count": 4,
   "id": "c53aceb9",
   "metadata": {},
   "outputs": [],
   "source": [
    "#website\n",
    "@app.route('/', methods=['GET', 'POST'])\n",
    "def login():\n",
    "    if request.method == 'POST':\n",
    "        username = request.form['username']\n",
    "        password = request.form['password']\n",
    "        if db_user.authPass(username,password):\n",
    "            session['value'] = username\n",
    "            return render_template('x.html' , username = username)\n",
    "        else:\n",
    "            error_message = 'Invalid credentials. Please try again.'\n",
    "        return render_template('x2.html', error_message=error_message)\n",
    "    return render_template('x2.html')\n",
    "\n",
    "@app.route('/upload', methods=['POST'])\n",
    "def upload():\n",
    "    video_file = request.files['video']\n",
    "    video_path = os.path.join('D:/Downloads/videos', video_file.filename) \n",
    "    video_file.save(video_path)\n",
    "    frames =ut.getFrames(video_path)\n",
    "    username = request.form.get('username')\n",
    "    x = ut.sendToModel(frames , username)\n",
    "    return x"
   ]
  },
  {
   "cell_type": "code",
   "execution_count": 5,
   "id": "93c4ff8a",
   "metadata": {},
   "outputs": [],
   "source": [
    "#client\n",
    "@app.route('/chatgpt/<username>/<int:TimeInsec>', methods=['GET'])\n",
    "def chatgpt(username,TimeInsec):\n",
    "    TimeInsec = TimeInsec//5\n",
    "    dic =magic.analysis(username ,TimeInsec )\n",
    "    response = api.chatGpt(dic['overallEmotion'])\n",
    "    return Response(response=response, status=200)\n",
    "\n",
    "@app.route('/image/<username>/<int:TimeInsec>', methods=['GET'])\n",
    "def image(username,TimeInsec):\n",
    "    TimeInsec = TimeInsec//5\n",
    "    dic =magic.analysis(username ,TimeInsec )\n",
    "    responsez = api.image()\n",
    "    return Response(response=responsez, status=200)\n",
    "\n",
    "@app.route('/spotify/<username>/<int:TimeInsec>', methods=['GET'])\n",
    "def spotify(username,TimeInsec):\n",
    "    TimeInsec = TimeInsec//5\n",
    "#     dic =magic.analysis(username ,TimeInsec )\n",
    "    responsee = api.spotify()\n",
    "    return Response(response=responsee, status=200)"
   ]
  },
  {
   "cell_type": "code",
   "execution_count": 6,
   "id": "ba80e70b",
   "metadata": {},
   "outputs": [],
   "source": [
    "#supervisor\n",
    "\n",
    "@app.route('/getAlerts/<PatientName>/<int:TimeInsec>', methods=['GET'])\n",
    "def getAlerts(PatientName,TimeInsec):\n",
    "    Alerts.send(PatientName,TimeInsec)\n",
    "    response = Alerts.getAlerts(PatientName)\n",
    "    response = json.dumps(response)\n",
    "    return Response(response=response, status=200)\n",
    "\n",
    "@app.route('/getReports/<username>/<int:TimeInsec>', methods=['GET'])\n",
    "def getReports(username , TimeInsec):\n",
    "    response = magic.analysis(username ,TimeInsec//5 )['report']\n",
    "    response = json.dumps(response)\n",
    "    return Response(response=response, status=200)\n",
    "\n",
    "@app.route('/login/<username>/<password>', methods=['GET'])\n",
    "def loginz(username,password):\n",
    "        if db_user.authPass(username,password):\n",
    "            return Response(response=db_user.getType(username), status=200)\n",
    "        else:\n",
    "            return Response(response = \"no\" , status = 200)\n",
    "        \n",
    "@app.route('/signup/<username>/<password>/<type>/<superVisorName>', methods=['GET'])\n",
    "def signup(username,password,type,superVisorName):\n",
    "    if not db_user.checkSuperVisor(superVisorName):\n",
    "        return Response(response = \"false\" , status = 200)\n",
    "    if  db_user.checkIfUserExist(username):\n",
    "        return Response(response = \"false\" , status = 200)\n",
    "    db_user.signup(username , password , type , superVisorName)\n",
    "    return Response(response = \"done\" , status = 200)\n",
    "\n",
    "@app.route('/getUser/<SupervisorName>', methods=['GET'])\n",
    "def getUser(SupervisorName):\n",
    "    response = db_user.getUsers(SupervisorName)\n",
    "    response = json.dumps(response)\n",
    "    return Response(response = response , status = 200)\n",
    "\n",
    "@app.route('/AdvancedReport/<patientName>/<int:TimeInsec>', methods=['GET'])\n",
    "def MainReportPage(patientName,TimeInsec):        \n",
    "    response = magic.analysis(patientName ,TimeInsec//5 )\n",
    "    response = ut.handlePlots(response)\n",
    "    response = json.dumps(response)\n",
    "    return Response(response = response , status = 200)"
   ]
  },
  {
   "cell_type": "code",
   "execution_count": null,
   "id": "7f64155d",
   "metadata": {
    "scrolled": true
   },
   "outputs": [
    {
     "name": "stdout",
     "output_type": "stream",
     "text": [
      " * Serving Flask app '__main__'\n",
      " * Debug mode: off\n"
     ]
    },
    {
     "name": "stderr",
     "output_type": "stream",
     "text": [
      "WARNING: This is a development server. Do not use it in a production deployment. Use a production WSGI server instead.\n",
      " * Running on http://127.0.0.1:5000\n",
      "Press CTRL+C to quit\n",
      "127.0.0.1 - - [12/Jun/2023 17:46:49] \"GET /login/mohamed+emad/123456 HTTP/1.0\" 200 -\n",
      "127.0.0.1 - - [12/Jun/2023 17:46:56] \"GET /login/barooudy/123456 HTTP/1.0\" 200 -\n",
      "127.0.0.1 - - [12/Jun/2023 17:47:06] \"GET /login/baroudy/123456 HTTP/1.0\" 200 -\n",
      "127.0.0.1 - - [12/Jun/2023 17:47:29] \"GET /login/baroudy/123456 HTTP/1.0\" 200 -\n"
     ]
    },
    {
     "name": "stdout",
     "output_type": "stream",
     "text": [
      "1/1 [==============================] - 0s 266ms/step\n",
      "['neg']\n"
     ]
    }
   ],
   "source": [
    "if __name__ == \"__main__\":\n",
    "    #host='0.0.0.0', port=80\n",
    "    app.run()"
   ]
  },
  {
   "cell_type": "code",
   "execution_count": null,
   "id": "19fd62b2",
   "metadata": {},
   "outputs": [],
   "source": [
    "# for i in range(60):\n",
    "#     ss.store('baroudy', \"pos\")\n",
    "# for i in range(60):\n",
    "#     ss.store('baroudy', \"neg\")"
   ]
  }
 ],
 "metadata": {
  "kernelspec": {
   "display_name": "Python 3 (ipykernel)",
   "language": "python",
   "name": "python3"
  },
  "language_info": {
   "codemirror_mode": {
    "name": "ipython",
    "version": 3
   },
   "file_extension": ".py",
   "mimetype": "text/x-python",
   "name": "python",
   "nbconvert_exporter": "python",
   "pygments_lexer": "ipython3",
   "version": "3.11.3"
  }
 },
 "nbformat": 4,
 "nbformat_minor": 5
}
